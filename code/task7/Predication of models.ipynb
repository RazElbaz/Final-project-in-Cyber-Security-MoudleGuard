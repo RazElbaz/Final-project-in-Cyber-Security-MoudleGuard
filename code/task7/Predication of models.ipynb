{
 "cells": [
  {
   "cell_type": "code",
   "execution_count": null,
   "id": "f863cbd7",
   "metadata": {},
   "outputs": [],
   "source": []
  },
  {
   "cell_type": "code",
   "execution_count": 1,
   "id": "09dab0e4",
   "metadata": {},
   "outputs": [],
   "source": [
    "import socket\n",
    "import sys\n",
    "import unittest\n",
    "from unittest.mock import patch\n",
    "import fickling.analysis as analysis\n",
    "from fickling.pickle import Pickled\n",
    "import builtins\n",
    "import os\n",
    "from IPython.display import Markdown\n",
    "import pickle\n",
    "import ast\n",
    "import pickletools\n",
    "from typing import Optional, TextIO, Tuple"
   ]
  },
  {
   "cell_type": "code",
   "execution_count": 2,
   "id": "47c760ee",
   "metadata": {},
   "outputs": [
    {
     "name": "stdout",
     "output_type": "stream",
     "text": [
      "Requirement already satisfied: fickling in c:\\users\\razel\\appdata\\local\\anaconda3\\lib\\site-packages (0.0.6)\n",
      "Requirement already satisfied: astunparse~=1.6.3 in c:\\users\\razel\\appdata\\local\\anaconda3\\lib\\site-packages (from fickling) (1.6.3)\n",
      "Requirement already satisfied: six<2.0,>=1.6.1 in c:\\users\\razel\\appdata\\local\\anaconda3\\lib\\site-packages (from astunparse~=1.6.3->fickling) (1.16.0)\n",
      "Requirement already satisfied: wheel<1.0,>=0.23.0 in c:\\users\\razel\\appdata\\local\\anaconda3\\lib\\site-packages (from astunparse~=1.6.3->fickling) (0.38.4)\n"
     ]
    }
   ],
   "source": [
    "# step 1 - install fickling\n",
    "!pip3 install fickling"
   ]
  },
  {
   "cell_type": "code",
   "execution_count": 3,
   "id": "b1caace6",
   "metadata": {},
   "outputs": [
    {
     "name": "stdout",
     "output_type": "stream",
     "text": [
      "Requirement already satisfied: termcolor in c:\\users\\razel\\appdata\\local\\anaconda3\\lib\\site-packages (2.3.0)\n"
     ]
    }
   ],
   "source": [
    "!pip3 install termcolor"
   ]
  },
  {
   "cell_type": "code",
   "execution_count": 4,
   "id": "ac9e2e80",
   "metadata": {},
   "outputs": [],
   "source": [
    "import ast\n",
    "import json\n",
    "import os\n",
    "import re\n",
    "import subprocess\n",
    "import sys\n",
    "from fickling.pickle import Pickled\n",
    "import pickle\n",
    "import _pickle as cPickle\n",
    "\n",
    "from termcolor import colored\n",
    "# -attacks\n",
    "# https://www.cadosecurity.com/linux-attack-techniques-dynamic-linker-hijacking-with-ld-preload/\n",
    "# https://www.cybertriage.com/blog/training/how-to-detect-running-malware-intro-to-incident-response-triage-part-7/\n",
    "\n",
    "# https://www.beyondtrust.com/blog/entry/important-linux-files-protect\n",
    "BAD_LIBRARY = {'/etc/hosts', '/bin/sh', '/etc/passwd', '/etc/pam.conf', '/proc', '/etc/shadow', '/etc/profile',\n",
    "               '~/.bash_profile', '~/.bash_login', '~/.profile. /home/user/.bashrc', '/etc/bash.bashrc',\n",
    "               '/etc/profile.d/', '/etc/system.d', '/etc/rc.*', '/etc/init.*.', '/etc/resolv.conf', '/etc/gshadow',\n",
    "               '/etc/pam.d', '/bin', '/sbin'}\n",
    "# This technique is often called DLL injection on Windows.\n",
    "# With DLL injection, the attacker creates a malicious library with the same name and API as the good one.\n",
    "# The program loads the malicious library and it, in turn, loads the good one and it will call the good one as needed to do the operations that the original program wants.\n",
    "BAD_CALLS = {'os', 'shutil', 'sys', 'requests', 'net', 'func',\n",
    "             'args',\n",
    "             'keywords', }\n",
    "BAD_SIGNAL = {'eval', 'compile', 'rm ', 'cat ', 'nc ', 'exec', 'open', 'run'}\n",
    "BAD_FILES = {'.py', '.exe', '.dll', '.so'}\n",
    "# https://redcanary.com/threat-detection-report/techniques/powershell/\n",
    "# PowerShell -encodedcommand switch\n",
    "# This detection analytic looks for the execution of powershell.exe with command lines that include variations of the -encodedcommand argument; PowerShell will recognize and accept anything from -e onward, and it will show up outside of the encoded bits.\n",
    "BAD_COMMAND = {'powershell.exe', '-e', '-en', '-enc', '-enco', 'ls', 'base64'}\n",
    "# Obfuscation and escape characters\n",
    "# Obfuscation can disrupt detection logic by splitting commands or parameters or inserting extra characters (that are ignored by PowerShell).\n",
    "# Monitor for the execution of PowerShell with unusually high counts of characters like ^, +, $, and %.\n",
    "BAD_CHARACTER = {'^', '+', '$', '%'}\n",
    "# Suspicious PowerShell cmdlets\n",
    "# Many of our PowerShell detection analytics look for cmdlets, methods, and switches that may indicate malicious activity.\n",
    "# The following analytic is by no means exhaustive but offers a few valuable examples of suspicious cmdlets and other oft-abused features to look out for:\n",
    "BAD_CMD = {'-nop', '-noni', 'invoke-expression', 'iex', '.downloadstring', 'downloadfile'}\n",
    "BAD_MODULE = {\"__init__\", \"__new__\", \"__reduce__\", \"__builtin__\", \"os\", \"subprocess\", \"sys\", \"builtins\", \"socket\"}\n",
    "BAD_IMPORT = {'module', 'names', 'level', }\n",
    "\n",
    "class scan_pickle_file:\n",
    "    def __init__(self):\n",
    "        pass\n",
    "    def scann(scan):\n",
    "        with open(scan, 'rb') as f:\n",
    "                print()\n",
    "                scan=(str(f.read()))\n",
    "        print(\"\\n******scanning-pickle******\")\n",
    "        result_output = \"\"\n",
    "        result_total = 0\n",
    "        result_other = 0\n",
    "        result_calls = {}\n",
    "        result_signals = {}\n",
    "        result_files = {}\n",
    "        result_library = {}\n",
    "        result_cmd = {}\n",
    "        result_moudle = {}\n",
    "        result_import = {}\n",
    "\n",
    "        for call in BAD_CALLS:\n",
    "            result_calls[call] = 0\n",
    "        for signal in BAD_SIGNAL:\n",
    "            result_signals[signal] = 0\n",
    "        for file in BAD_FILES:\n",
    "            result_files[file] = 0\n",
    "        for lib in BAD_LIBRARY:\n",
    "            result_library[lib] = 0\n",
    "        for cmd in BAD_CMD:\n",
    "            result_cmd[cmd] = 0\n",
    "        for moudle in BAD_MODULE:\n",
    "            result_moudle[moudle] = 0\n",
    "        for impor in BAD_IMPORT:\n",
    "            result_import[impor] = 0\n",
    "\n",
    "        input = scan\n",
    "        for call in BAD_CALLS:\n",
    "            if (input.find(call) > -1):\n",
    "                result_calls[call] += 1\n",
    "                result_total += 1\n",
    "                result_output += \"----- found lib call (\" + call + \") -----\\n\"\n",
    "                result_output += input\n",
    "\n",
    "        for signal in BAD_SIGNAL:\n",
    "            if (input.find(signal) > -1):\n",
    "                result_signals[signal] += 1\n",
    "                result_total += 1\n",
    "                result_output += \"----- found malicious signal (\" + signal + \") -----\\n\"\n",
    "                result_output += input\n",
    "\n",
    "        for file in BAD_FILES:\n",
    "            if (input.find(file) > -1):\n",
    "                result_files[file] += 1\n",
    "                result_total += 1\n",
    "                result_output += \"----- found malicious file (\" + file + \") -----\\n\"\n",
    "                result_output += input\n",
    "\n",
    "        for lib in BAD_LIBRARY:\n",
    "            if (input.find(lib) > -1):\n",
    "                result_library[lib] += 1\n",
    "                result_total += 1\n",
    "                result_output += \"----- found malicious signal (\" + lib + \") -----\\n\"\n",
    "                result_output += input\n",
    "\n",
    "        for impo in BAD_IMPORT:\n",
    "            if (input.find(impo) > -1):\n",
    "                result_import[impo] += 1\n",
    "                result_total += 1\n",
    "                result_output += \"----- found malicious import (\" + impo + \") -----\\n\"\n",
    "                result_output += input\n",
    "        for cm in BAD_CMD:\n",
    "            if (input.find(cm) > -1):\n",
    "                result_cmd[impo] += 1\n",
    "                result_total += 1\n",
    "                result_output += \"----- found malicious cmd command (\" + cm + \") -----\\n\"\n",
    "                result_output += input\n",
    "        for mod in BAD_MODULE:\n",
    "            if (input.find(mod) > -1):\n",
    "                result_moudle[mod] += 1\n",
    "                result_total += 1\n",
    "                result_output += \"----- found malicious module (\" + mod + \") -----\\n\"\n",
    "                result_output += input\n",
    "\n",
    "        if result_total > 0:\n",
    "            for file in BAD_FILES:\n",
    "                if (result_files[file])>0:\n",
    "                    print(\"malicious file (\" + file + \"): \" + str(result_files[file]))\n",
    "            for lib in BAD_LIBRARY:\n",
    "                if (result_library[lib])>0:\n",
    "                    print(\"malicious lib (\" + lib + \"): \" + str(result_library[lib]))\n",
    "            for call in BAD_CALLS:\n",
    "                if (result_calls[call])>0:\n",
    "                    print(\"library call (\" + call + \".): \" + str(result_calls[call]))\n",
    "            for signal in BAD_SIGNAL:\n",
    "                if (result_signals[signal])>0:\n",
    "                    print(\"malicious signal (\" + signal + \"): \" + str(result_signals[signal]))\n",
    "            for c in BAD_CMD:\n",
    "                if (result_cmd[c])>0:\n",
    "                    print(\"malicious cmd command (\" + c + \"): \" + str(result_cmd[c]))\n",
    "            for m in BAD_MODULE:\n",
    "                if (result_moudle[m])>0:\n",
    "                    print(\"malicious module (\" + m + \"): \" + str(result_moudle[m]))\n",
    "            for i in BAD_IMPORT:\n",
    "                if (result_import[i])>0:\n",
    "                    print(\"malicious import (\" + i + \"): \" + str(result_import[i]))\n",
    "            if (result_other)>0:\n",
    "                print(\"non-standard calls: \" + str(result_other))\n",
    "            # print(\"total: \" + str(result_total))\n",
    "\n",
    "            print(colored(\"SCAN FAILED\\n\", \"red\"))\n",
    "\n",
    "            # print(result_output)\n",
    "            # print(result_total)\n",
    "        else:\n",
    "            print(colored(\"SCAN PASSED!\", \"green\"))"
   ]
  },
  {
   "cell_type": "code",
   "execution_count": 5,
   "id": "3f7a8625",
   "metadata": {},
   "outputs": [],
   "source": [
    "if sys.version_info < (3, 9):\n",
    "    from astunparse import unparse\n",
    "else:\n",
    "    from ast import unparse\n",
    "\n",
    "from fickling.pickle import Interpreter, Pickled\n",
    "class cdr:\n",
    "    def __init__(self):\n",
    "        pass\n",
    "\n",
    "    def code(self, pickled: Pickled) -> str:\n",
    "        \"\"\"\n",
    "        Returns the string representation of the code object that was pickled.\n",
    "        \"\"\"\n",
    "        code = pickled['code']\n",
    "        return code.co_code.decode('utf-8')\n",
    "\n",
    "    def check_safety(\n",
    "        self, pickled: Pickled, filename, stdout: Optional[TextIO] = None, stderr: Optional[TextIO] = None\n",
    "    ) -> bool:\n",
    "        if stdout is None:\n",
    "            stdout = sys.stdout\n",
    "        if stderr is None:\n",
    "            stderr = sys.stderr\n",
    "\n",
    "        properties = pickled.properties\n",
    "        likely_safe = True\n",
    "        reported_shortened_code = set()\n",
    "\n",
    "        def shorten_code(ast_node) -> Tuple[str, bool]:\n",
    "            code = unparse(ast_node).strip()\n",
    "            if len(code) > 32:\n",
    "                cutoff = code.find(\"(\")\n",
    "                if code[cutoff] == \"(\":\n",
    "                    shortened_code = f\"{code[:code.find('(')].strip()}(...)\"\n",
    "                else:\n",
    "                    shortened_code = code\n",
    "            else:\n",
    "                shortened_code = code\n",
    "            was_already_reported = shortened_code in reported_shortened_code\n",
    "            reported_shortened_code.add(shortened_code)\n",
    "            return shortened_code, was_already_reported\n",
    "\n",
    "        safe_lines = []\n",
    "\n",
    "        with open(filename, 'rb') as f:\n",
    "            code = str(f.read().decode('latin1'))\n",
    "\n",
    "        for line in code.split('\\n'):\n",
    "            try:\n",
    "                clean_string = line.replace('\\x00', '')\n",
    "                ast_node = compile(clean_string, '<string>', 'exec', ast.PyCF_ONLY_AST)\n",
    "            except SyntaxError:\n",
    "                continue\n",
    "            is_safe = True\n",
    "            for node in ast.walk(ast_node):\n",
    "                if isinstance(node, ast.Call):\n",
    "                    if (\n",
    "                        isinstance(node.func, ast.Name)\n",
    "                        and node.func.id == 'eval'\n",
    "                    ):\n",
    "                        is_safe = False\n",
    "                    elif (\n",
    "                        isinstance(node.func, ast.Attribute)\n",
    "                        and node.func.attr == 'loads'\n",
    "                        and isinstance(node.func.value, ast.Name)\n",
    "                        and node.func.value.id == 'pickle'\n",
    "                    ):\n",
    "                        is_safe = False\n",
    "                elif isinstance(node, ast.Import):\n",
    "                    for alias in node.names:\n",
    "                        if not alias.name.startswith('_') and alias.name not in sys.modules:\n",
    "                            is_safe = False\n",
    "                elif isinstance(node, ast.ImportFrom):\n",
    "                    if not node.module.startswith('_') and node.module not in sys.modules:\n",
    "                        is_safe = False\n",
    "                elif (\"eval\" in line) or (\"exec\" in line) or (\"compile\" in line) or (\"open\" in line):\n",
    "                    is_safe = False\n",
    "                elif (\"__builtin__\"in line) or (\"os\" in line) or (\"subprocess\" in line) or (\"sys\" in line) or (\"builtins\" in line) or (\"socket\" in line):\n",
    "                    is_safe = False\n",
    "\n",
    "        with open(filename, 'rb') as f:\n",
    "            data = f.read()\n",
    "\n",
    "        for op in pickletools.genops(data):\n",
    "            if type(op[1]) == str and all(substring not in op[1] for substring in [\"eval\", \"exec\", \"compile\", \"open\", \"__builtin__\", \"os\", \"subprocess\", \"sys\", \"builtins\", \"socket\"]):\n",
    "                safe_lines.append(op[1])\n",
    "\n",
    "        with open(filename, 'wb') as f:\n",
    "            pickle.dump('\\n'.join(safe_lines), f)\n",
    "\n",
    "        if not safe_lines:\n",
    "            return \"False\"\n",
    "\n",
    "        if likely_safe:\n",
    "            return \"True\"\n",
    "        else:\n",
    "            return \"False\"\n"
   ]
  },
  {
   "cell_type": "code",
   "execution_count": 6,
   "id": "12748e73",
   "metadata": {},
   "outputs": [],
   "source": [
    "\n",
    "def setUpClass():\n",
    "        class ExecuteCode(object):\n",
    "            def __reduce__(self):\n",
    "                return (builtins.exec, (\"import os; os.system('echo I am executing arbitrary code!')\",))\n",
    "        class EvalCode(object):\n",
    "            def __reduce__(self):\n",
    "                return (eval, (\"['a', 'b', 'c']\",))\n",
    "        class CompileCode(object):\n",
    "            def __reduce__(self):\n",
    "                return (compile, (\"print('I execute code that runs on your computer')\", \"<string>\", \"exec\"),)\n",
    "        class OpenFile(object):\n",
    "            def __reduce__(self):\n",
    "                return (builtins.exec, (\"f = open('/etc/passwd', 'r'); print(f.read()); f.close()\",))\n",
    "        class Os(object):\n",
    "            def __reduce__(self):\n",
    "                import os\n",
    "                return (os.system, (\"echo 'I execute code that runs on your computer'\",))\n",
    "        class MalSocket(object):\n",
    "            def __reduce__(self):\n",
    "                return socket.socket, (socket.AF_INET, socket.SOCK_STREAM)\n",
    "\n",
    "        if os.path.exists(\n",
    "                'malicious_socket.pkl'):\n",
    "            os.remove(\n",
    "                'malicious_socket.pkl')\n",
    "        with open('malicious_socket.pkl', 'wb') as f:\n",
    "            pickle.dump(MalSocket(), f)\n",
    "\n",
    "        my_list = ['a', 'b', 'c']\n",
    "        with open('malicious_exec.pkl', 'wb') as f:\n",
    "            pickle.dump((ExecuteCode(), my_list), f)\n",
    "\n",
    "        student_names = ['Alice','Bob','Elena','Jane','Kyle']\n",
    "        with open('student_file.pkl', 'wb') as f:  # open a text file\n",
    "            pickle.dump(student_names, f) # serialize the list\n",
    "\n",
    "        with open('malicious_eval.pkl', 'wb') as f:\n",
    "            pickle.dump(EvalCode(), f)\n",
    "\n",
    "        with open(\n",
    "                'malicious_compile.pkl', 'wb') as f:\n",
    "            pickle.dump(CompileCode(), f)\n",
    "\n",
    "        with open('malicious_open.pkl', 'wb') as f:\n",
    "            pickle.dump(OpenFile(), f)\n",
    "\n",
    "        # create a list to pickle\n",
    "        fruits = ['apple', 'banana', 'orange']\n",
    "        # open a file in write binary mode to pickle\n",
    "        with open('fruits.pkl', 'wb') as f:\n",
    "            # pickle the list\n",
    "            pickle.dump(fruits, f)\n",
    "\n",
    "        # create a dictionary to pickle\n",
    "        person = {'name': 'John', 'age': 30, 'city': 'New York'}\n",
    "        # open a file in write binary mode to pickle\n",
    "        with open('person_dictionary.pkl', 'wb') as f:\n",
    "            # pickle the dictionary\n",
    "            pickle.dump(person, f)\n",
    "        with open('malicious_os.pkl', 'wb') as f:\n",
    "            pickle.dump(Os(), f)\n",
    "\n",
    "        # Create a malicious pickle\n",
    "        student_names = ['Alice','Bob','Elena','Jane','Kyle']\n",
    "        pickle_bin = pickle.dumps(student_names)\n",
    "        p = Pickled.load(pickle_bin)\n",
    "        p.insert_python_exec(\"with open('/etc/passwd','r') as r: print(r.readlines())\")\n",
    "        p.insert_python_exec(\"with open('/etc/group','r') as r: print(r.readlines())\")\n",
    "        p.insert_python_exec(\"import module print('malicious')\")\n",
    "        p.insert_python_exec(\"import os  os.system('echo Malicious code!')\")\n",
    "\n",
    "        with open('unsafe.pkl', 'wb') as f:\n",
    "            p.dump(f)"
   ]
  },
  {
   "cell_type": "code",
   "execution_count": 7,
   "id": "e89bb347",
   "metadata": {},
   "outputs": [],
   "source": [
    "setUpClass()"
   ]
  },
  {
   "cell_type": "code",
   "execution_count": 8,
   "id": "3d6b0184",
   "metadata": {},
   "outputs": [],
   "source": [
    "def process_file(filename):\n",
    "    display(Markdown(\"-------------------------- \" + os.path.splitext(filename)[0] + \" ----------------------------------\"))\n",
    "    \n",
    "    with patch('sys.stdout') as stdout:\n",
    "            \n",
    "        with open(filename, 'rb') as f:\n",
    "                pickled_data = f.read()\n",
    "        pickled_obj = Pickled.load(pickled_data)\n",
    "            # First run analysis.py\n",
    "        analysis_result = analysis.check_safety(pickled_obj)\n",
    "        display(str(analysis_result)) # Expecting clean\n",
    "        if str(analysis_result) == '':\n",
    "            display(Markdown(\"clean\"))\n",
    "        else:\n",
    "            display(Markdown(\"not clean\"))\n",
    "            scan_pickle_file.scann(filename)\n",
    "            print(\"Now removing the malicious data....\")\n",
    "            with patch('sys.stdout') as stdout:\n",
    "                cdr().check_safety(pickled_obj,filename)\n",
    "                \n",
    "                # Finally, run analysis.py again\n",
    "                with open(filename, 'rb') as f:\n",
    "                    pickled_data = f.read()\n",
    "                pickled_obj = Pickled.load(pickled_data)\n",
    "                analysis_result_2 = analysis.check_safety(pickled_obj)\n",
    "                display(str(analysis_result_2)) # Expecting clean\n",
    "            # Check stdout for expected messages\n",
    "            if str(analysis_result_2) == '':\n",
    "                display(Markdown(\"clean\"))\n",
    "                display(Markdown(\"\\nThe clean data left in the file:\"))\n",
    "                with open(filename, 'rb') as f:\n",
    "                    pickled_data = pickle.load(f)\n",
    "                display(str(pickled_data))\n",
    "            else:\n",
    "                display(Markdown(\"not clean\"))\n",
    "\n"
   ]
  },
  {
   "cell_type": "code",
   "execution_count": 9,
   "id": "9d9d6fc3",
   "metadata": {},
   "outputs": [
    {
     "data": {
      "text/markdown": [
       "-------------------------- malicious_exec ----------------------------------"
      ],
      "text/plain": [
       "<IPython.core.display.Markdown object>"
      ]
     },
     "metadata": {},
     "output_type": "display_data"
    },
    {
     "name": "stderr",
     "output_type": "stream",
     "text": [
      "Warning: Fickling failed to detect any overtly unsafe code, but the pickle file may still be unsafe.\n",
      "\n",
      "Do not unpickle this file if it is from an untrusted source!\n"
     ]
    },
    {
     "data": {
      "text/plain": [
       "'Call to `exec(...)` is almost certainly evidence of a malicious pickle file\\nVariable `_var0` is assigned value `exec(...)` but unused afterward; this is suspicious and indicative of a malicious pickle file'"
      ]
     },
     "metadata": {},
     "output_type": "display_data"
    },
    {
     "data": {
      "text/markdown": [
       "not clean"
      ],
      "text/plain": [
       "<IPython.core.display.Markdown object>"
      ]
     },
     "metadata": {},
     "output_type": "display_data"
    },
    {
     "name": "stderr",
     "output_type": "stream",
     "text": [
      "Warning: Fickling failed to detect any overtly unsafe code, but the pickle file may still be unsafe.\n",
      "\n",
      "Do not unpickle this file if it is from an untrusted source!\n"
     ]
    },
    {
     "data": {
      "text/plain": [
       "''"
      ]
     },
     "metadata": {},
     "output_type": "display_data"
    },
    {
     "data": {
      "text/markdown": [
       "clean"
      ],
      "text/plain": [
       "<IPython.core.display.Markdown object>"
      ]
     },
     "metadata": {},
     "output_type": "display_data"
    },
    {
     "data": {
      "text/markdown": [
       "\n",
       "The clean data left in the file:"
      ],
      "text/plain": [
       "<IPython.core.display.Markdown object>"
      ]
     },
     "metadata": {},
     "output_type": "display_data"
    },
    {
     "data": {
      "text/plain": [
       "'a\\nb\\nc'"
      ]
     },
     "metadata": {},
     "output_type": "display_data"
    }
   ],
   "source": [
    "filename = \"malicious_exec.pkl\"\n",
    "process_file(filename)\n"
   ]
  },
  {
   "cell_type": "code",
   "execution_count": 10,
   "id": "e640a6ef",
   "metadata": {},
   "outputs": [
    {
     "data": {
      "text/markdown": [
       "-------------------------- unsafe ----------------------------------"
      ],
      "text/plain": [
       "<IPython.core.display.Markdown object>"
      ]
     },
     "metadata": {},
     "output_type": "display_data"
    },
    {
     "name": "stderr",
     "output_type": "stream",
     "text": [
      "Warning: Fickling failed to detect any overtly unsafe code, but the pickle file may still be unsafe.\n",
      "\n",
      "Do not unpickle this file if it is from an untrusted source!\n"
     ]
    },
    {
     "data": {
      "text/plain": [
       "'Call to `exec(...)` is almost certainly evidence of a malicious pickle file\\nCall to `exec(...)` is almost certainly evidence of a malicious pickle file\\nCall to `exec(...)` is almost certainly evidence of a malicious pickle file\\nCall to `exec(...)` is almost certainly evidence of a malicious pickle file\\nVariable `_var0` is assigned value `exec(...)` but unused afterward; this is suspicious and indicative of a malicious pickle file\\nVariable `_var1` is assigned value `exec(...)` but unused afterward; this is suspicious and indicative of a malicious pickle file\\nVariable `_var3` is assigned value `exec(...)` but unused afterward; this is suspicious and indicative of a malicious pickle file\\nVariable `_var2` is assigned value `exec(...)` but unused afterward; this is suspicious and indicative of a malicious pickle file'"
      ]
     },
     "metadata": {},
     "output_type": "display_data"
    },
    {
     "data": {
      "text/markdown": [
       "not clean"
      ],
      "text/plain": [
       "<IPython.core.display.Markdown object>"
      ]
     },
     "metadata": {},
     "output_type": "display_data"
    },
    {
     "name": "stderr",
     "output_type": "stream",
     "text": [
      "Warning: Fickling failed to detect any overtly unsafe code, but the pickle file may still be unsafe.\n",
      "\n",
      "Do not unpickle this file if it is from an untrusted source!\n"
     ]
    },
    {
     "data": {
      "text/plain": [
       "''"
      ]
     },
     "metadata": {},
     "output_type": "display_data"
    },
    {
     "data": {
      "text/markdown": [
       "clean"
      ],
      "text/plain": [
       "<IPython.core.display.Markdown object>"
      ]
     },
     "metadata": {},
     "output_type": "display_data"
    },
    {
     "data": {
      "text/markdown": [
       "\n",
       "The clean data left in the file:"
      ],
      "text/plain": [
       "<IPython.core.display.Markdown object>"
      ]
     },
     "metadata": {},
     "output_type": "display_data"
    },
    {
     "data": {
      "text/plain": [
       "\"import module print('malicious')\\nAlice\\nBob\\nElena\\nJane\\nKyle\""
      ]
     },
     "metadata": {},
     "output_type": "display_data"
    }
   ],
   "source": [
    "filename = \"unsafe.pkl\"\n",
    "process_file(filename)\n"
   ]
  },
  {
   "cell_type": "code",
   "execution_count": 11,
   "id": "deae173d",
   "metadata": {},
   "outputs": [
    {
     "data": {
      "text/markdown": [
       "-------------------------- malicious_compile ----------------------------------"
      ],
      "text/plain": [
       "<IPython.core.display.Markdown object>"
      ]
     },
     "metadata": {},
     "output_type": "display_data"
    },
    {
     "name": "stderr",
     "output_type": "stream",
     "text": [
      "Warning: Fickling failed to detect any overtly unsafe code, but the pickle file may still be unsafe.\n",
      "\n",
      "Do not unpickle this file if it is from an untrusted source!\n"
     ]
    },
    {
     "data": {
      "text/plain": [
       "'Call to `compile(...)` is almost certainly evidence of a malicious pickle file\\nVariable `_var0` is assigned value `compile(...)` but unused afterward; this is suspicious and indicative of a malicious pickle file'"
      ]
     },
     "metadata": {},
     "output_type": "display_data"
    },
    {
     "data": {
      "text/markdown": [
       "not clean"
      ],
      "text/plain": [
       "<IPython.core.display.Markdown object>"
      ]
     },
     "metadata": {},
     "output_type": "display_data"
    },
    {
     "name": "stderr",
     "output_type": "stream",
     "text": [
      "Warning: Fickling failed to detect any overtly unsafe code, but the pickle file may still be unsafe.\n",
      "\n",
      "Do not unpickle this file if it is from an untrusted source!\n"
     ]
    },
    {
     "data": {
      "text/plain": [
       "''"
      ]
     },
     "metadata": {},
     "output_type": "display_data"
    },
    {
     "data": {
      "text/markdown": [
       "clean"
      ],
      "text/plain": [
       "<IPython.core.display.Markdown object>"
      ]
     },
     "metadata": {},
     "output_type": "display_data"
    },
    {
     "data": {
      "text/markdown": [
       "\n",
       "The clean data left in the file:"
      ],
      "text/plain": [
       "<IPython.core.display.Markdown object>"
      ]
     },
     "metadata": {},
     "output_type": "display_data"
    },
    {
     "data": {
      "text/plain": [
       "'<string>'"
      ]
     },
     "metadata": {},
     "output_type": "display_data"
    }
   ],
   "source": [
    "filename = \"malicious_compile.pkl\"\n",
    "process_file(filename)\n"
   ]
  },
  {
   "cell_type": "code",
   "execution_count": 12,
   "id": "7316e04d",
   "metadata": {},
   "outputs": [
    {
     "data": {
      "text/markdown": [
       "-------------------------- malicious_open ----------------------------------"
      ],
      "text/plain": [
       "<IPython.core.display.Markdown object>"
      ]
     },
     "metadata": {},
     "output_type": "display_data"
    },
    {
     "name": "stderr",
     "output_type": "stream",
     "text": [
      "Warning: Fickling failed to detect any overtly unsafe code, but the pickle file may still be unsafe.\n",
      "\n",
      "Do not unpickle this file if it is from an untrusted source!\n"
     ]
    },
    {
     "data": {
      "text/plain": [
       "'Call to `exec(...)` is almost certainly evidence of a malicious pickle file\\nVariable `_var0` is assigned value `exec(...)` but unused afterward; this is suspicious and indicative of a malicious pickle file'"
      ]
     },
     "metadata": {},
     "output_type": "display_data"
    },
    {
     "data": {
      "text/markdown": [
       "not clean"
      ],
      "text/plain": [
       "<IPython.core.display.Markdown object>"
      ]
     },
     "metadata": {},
     "output_type": "display_data"
    },
    {
     "name": "stderr",
     "output_type": "stream",
     "text": [
      "Warning: Fickling failed to detect any overtly unsafe code, but the pickle file may still be unsafe.\n",
      "\n",
      "Do not unpickle this file if it is from an untrusted source!\n"
     ]
    },
    {
     "data": {
      "text/plain": [
       "''"
      ]
     },
     "metadata": {},
     "output_type": "display_data"
    },
    {
     "data": {
      "text/markdown": [
       "clean"
      ],
      "text/plain": [
       "<IPython.core.display.Markdown object>"
      ]
     },
     "metadata": {},
     "output_type": "display_data"
    },
    {
     "data": {
      "text/markdown": [
       "\n",
       "The clean data left in the file:"
      ],
      "text/plain": [
       "<IPython.core.display.Markdown object>"
      ]
     },
     "metadata": {},
     "output_type": "display_data"
    },
    {
     "data": {
      "text/plain": [
       "''"
      ]
     },
     "metadata": {},
     "output_type": "display_data"
    }
   ],
   "source": [
    "filename = \"malicious_open.pkl\"\n",
    "process_file(filename)\n"
   ]
  },
  {
   "cell_type": "code",
   "execution_count": 13,
   "id": "e75169c0",
   "metadata": {},
   "outputs": [
    {
     "data": {
      "text/markdown": [
       "-------------------------- malicious_os ----------------------------------"
      ],
      "text/plain": [
       "<IPython.core.display.Markdown object>"
      ]
     },
     "metadata": {},
     "output_type": "display_data"
    },
    {
     "name": "stderr",
     "output_type": "stream",
     "text": [
      "Warning: Fickling failed to detect any overtly unsafe code, but the pickle file may still be unsafe.\n",
      "\n",
      "Do not unpickle this file if it is from an untrusted source!\n"
     ]
    },
    {
     "data": {
      "text/plain": [
       "'Variable `_var0` is assigned value `system(...)` but unused afterward; this is suspicious and indicative of a malicious pickle file'"
      ]
     },
     "metadata": {},
     "output_type": "display_data"
    },
    {
     "data": {
      "text/markdown": [
       "not clean"
      ],
      "text/plain": [
       "<IPython.core.display.Markdown object>"
      ]
     },
     "metadata": {},
     "output_type": "display_data"
    },
    {
     "name": "stderr",
     "output_type": "stream",
     "text": [
      "Warning: Fickling failed to detect any overtly unsafe code, but the pickle file may still be unsafe.\n",
      "\n",
      "Do not unpickle this file if it is from an untrusted source!\n"
     ]
    },
    {
     "data": {
      "text/plain": [
       "''"
      ]
     },
     "metadata": {},
     "output_type": "display_data"
    },
    {
     "data": {
      "text/markdown": [
       "clean"
      ],
      "text/plain": [
       "<IPython.core.display.Markdown object>"
      ]
     },
     "metadata": {},
     "output_type": "display_data"
    },
    {
     "data": {
      "text/markdown": [
       "\n",
       "The clean data left in the file:"
      ],
      "text/plain": [
       "<IPython.core.display.Markdown object>"
      ]
     },
     "metadata": {},
     "output_type": "display_data"
    },
    {
     "data": {
      "text/plain": [
       "'nt'"
      ]
     },
     "metadata": {},
     "output_type": "display_data"
    }
   ],
   "source": [
    "filename = \"malicious_os.pkl\"\n",
    "process_file(filename)"
   ]
  },
  {
   "cell_type": "code",
   "execution_count": 14,
   "id": "d43759c2",
   "metadata": {},
   "outputs": [
    {
     "data": {
      "text/markdown": [
       "-------------------------- malicious_eval ----------------------------------"
      ],
      "text/plain": [
       "<IPython.core.display.Markdown object>"
      ]
     },
     "metadata": {},
     "output_type": "display_data"
    },
    {
     "name": "stderr",
     "output_type": "stream",
     "text": [
      "Warning: Fickling failed to detect any overtly unsafe code, but the pickle file may still be unsafe.\n",
      "\n",
      "Do not unpickle this file if it is from an untrusted source!\n"
     ]
    },
    {
     "data": {
      "text/plain": [
       "'Call to `eval(\"[\\'a\\', \\'b\\', \\'c\\']\")` is almost certainly evidence of a malicious pickle file\\nVariable `_var0` is assigned value `eval(\"[\\'a\\', \\'b\\', \\'c\\']\")` but unused afterward; this is suspicious and indicative of a malicious pickle file'"
      ]
     },
     "metadata": {},
     "output_type": "display_data"
    },
    {
     "data": {
      "text/markdown": [
       "not clean"
      ],
      "text/plain": [
       "<IPython.core.display.Markdown object>"
      ]
     },
     "metadata": {},
     "output_type": "display_data"
    },
    {
     "name": "stderr",
     "output_type": "stream",
     "text": [
      "Warning: Fickling failed to detect any overtly unsafe code, but the pickle file may still be unsafe.\n",
      "\n",
      "Do not unpickle this file if it is from an untrusted source!\n"
     ]
    },
    {
     "data": {
      "text/plain": [
       "''"
      ]
     },
     "metadata": {},
     "output_type": "display_data"
    },
    {
     "data": {
      "text/markdown": [
       "clean"
      ],
      "text/plain": [
       "<IPython.core.display.Markdown object>"
      ]
     },
     "metadata": {},
     "output_type": "display_data"
    },
    {
     "data": {
      "text/markdown": [
       "\n",
       "The clean data left in the file:"
      ],
      "text/plain": [
       "<IPython.core.display.Markdown object>"
      ]
     },
     "metadata": {},
     "output_type": "display_data"
    },
    {
     "data": {
      "text/plain": [
       "\"['a', 'b', 'c']\""
      ]
     },
     "metadata": {},
     "output_type": "display_data"
    }
   ],
   "source": [
    "filename = \"malicious_eval.pkl\"\n",
    "process_file(filename)\n"
   ]
  },
  {
   "cell_type": "code",
   "execution_count": 15,
   "id": "53861228",
   "metadata": {},
   "outputs": [
    {
     "data": {
      "text/markdown": [
       "-------------------------- malicious_socket ----------------------------------"
      ],
      "text/plain": [
       "<IPython.core.display.Markdown object>"
      ]
     },
     "metadata": {},
     "output_type": "display_data"
    },
    {
     "name": "stderr",
     "output_type": "stream",
     "text": [
      "Warning: Fickling failed to detect any overtly unsafe code, but the pickle file may still be unsafe.\n",
      "\n",
      "Do not unpickle this file if it is from an untrusted source!\n"
     ]
    },
    {
     "data": {
      "text/plain": [
       "'`from socket import socket` is suspicious and indicative of an overtly malicious pickle file\\n`from socket import AF_INET` is suspicious and indicative of an overtly malicious pickle file\\n`from socket import SOCK_STREAM` is suspicious and indicative of an overtly malicious pickle file\\nVariable `_var0` is assigned value `socket(AF_INET, SOCK_STREAM)` but unused afterward; this is suspicious and indicative of a malicious pickle file'"
      ]
     },
     "metadata": {},
     "output_type": "display_data"
    },
    {
     "data": {
      "text/markdown": [
       "not clean"
      ],
      "text/plain": [
       "<IPython.core.display.Markdown object>"
      ]
     },
     "metadata": {},
     "output_type": "display_data"
    },
    {
     "name": "stderr",
     "output_type": "stream",
     "text": [
      "Warning: Fickling failed to detect any overtly unsafe code, but the pickle file may still be unsafe.\n",
      "\n",
      "Do not unpickle this file if it is from an untrusted source!\n"
     ]
    },
    {
     "data": {
      "text/plain": [
       "''"
      ]
     },
     "metadata": {},
     "output_type": "display_data"
    },
    {
     "data": {
      "text/markdown": [
       "clean"
      ],
      "text/plain": [
       "<IPython.core.display.Markdown object>"
      ]
     },
     "metadata": {},
     "output_type": "display_data"
    },
    {
     "data": {
      "text/markdown": [
       "\n",
       "The clean data left in the file:"
      ],
      "text/plain": [
       "<IPython.core.display.Markdown object>"
      ]
     },
     "metadata": {},
     "output_type": "display_data"
    },
    {
     "data": {
      "text/plain": [
       "'AF_INET\\nSOCK_STREAM'"
      ]
     },
     "metadata": {},
     "output_type": "display_data"
    }
   ],
   "source": [
    "filename = \"malicious_socket.pkl\"\n",
    "process_file(filename)\n"
   ]
  },
  {
   "cell_type": "code",
   "execution_count": 17,
   "id": "515dfae9",
   "metadata": {},
   "outputs": [
    {
     "data": {
      "text/markdown": [
       "-------------------------- student_file ----------------------------------"
      ],
      "text/plain": [
       "<IPython.core.display.Markdown object>"
      ]
     },
     "metadata": {},
     "output_type": "display_data"
    },
    {
     "name": "stderr",
     "output_type": "stream",
     "text": [
      "Warning: Fickling failed to detect any overtly unsafe code, but the pickle file may still be unsafe.\n",
      "\n",
      "Do not unpickle this file if it is from an untrusted source!\n"
     ]
    },
    {
     "data": {
      "text/plain": [
       "''"
      ]
     },
     "metadata": {},
     "output_type": "display_data"
    },
    {
     "data": {
      "text/markdown": [
       "clean"
      ],
      "text/plain": [
       "<IPython.core.display.Markdown object>"
      ]
     },
     "metadata": {},
     "output_type": "display_data"
    }
   ],
   "source": [
    "filename = \"student_file.pkl\"\n",
    "process_file(filename)\n"
   ]
  },
  {
   "cell_type": "code",
   "execution_count": 18,
   "id": "642086c1",
   "metadata": {},
   "outputs": [
    {
     "data": {
      "text/markdown": [
       "-------------------------- fruits ----------------------------------"
      ],
      "text/plain": [
       "<IPython.core.display.Markdown object>"
      ]
     },
     "metadata": {},
     "output_type": "display_data"
    },
    {
     "name": "stderr",
     "output_type": "stream",
     "text": [
      "Warning: Fickling failed to detect any overtly unsafe code, but the pickle file may still be unsafe.\n",
      "\n",
      "Do not unpickle this file if it is from an untrusted source!\n"
     ]
    },
    {
     "data": {
      "text/plain": [
       "''"
      ]
     },
     "metadata": {},
     "output_type": "display_data"
    },
    {
     "data": {
      "text/markdown": [
       "clean"
      ],
      "text/plain": [
       "<IPython.core.display.Markdown object>"
      ]
     },
     "metadata": {},
     "output_type": "display_data"
    }
   ],
   "source": [
    "filename = \"fruits.pkl\"\n",
    "process_file(filename)\n"
   ]
  },
  {
   "cell_type": "code",
   "execution_count": 19,
   "id": "50f9b269",
   "metadata": {},
   "outputs": [
    {
     "data": {
      "text/markdown": [
       "-------------------------- person_dictionary ----------------------------------"
      ],
      "text/plain": [
       "<IPython.core.display.Markdown object>"
      ]
     },
     "metadata": {},
     "output_type": "display_data"
    },
    {
     "name": "stderr",
     "output_type": "stream",
     "text": [
      "Warning: Fickling failed to detect any overtly unsafe code, but the pickle file may still be unsafe.\n",
      "\n",
      "Do not unpickle this file if it is from an untrusted source!\n"
     ]
    },
    {
     "data": {
      "text/plain": [
       "''"
      ]
     },
     "metadata": {},
     "output_type": "display_data"
    },
    {
     "data": {
      "text/markdown": [
       "clean"
      ],
      "text/plain": [
       "<IPython.core.display.Markdown object>"
      ]
     },
     "metadata": {},
     "output_type": "display_data"
    }
   ],
   "source": [
    "filename = \"person_dictionary.pkl\"\n",
    "process_file(filename)\n"
   ]
  },
  {
   "cell_type": "code",
   "execution_count": null,
   "id": "6efdb26f",
   "metadata": {},
   "outputs": [],
   "source": []
  }
 ],
 "metadata": {
  "kernelspec": {
   "display_name": "Python 3 (ipykernel)",
   "language": "python",
   "name": "python3"
  },
  "language_info": {
   "codemirror_mode": {
    "name": "ipython",
    "version": 3
   },
   "file_extension": ".py",
   "mimetype": "text/x-python",
   "name": "python",
   "nbconvert_exporter": "python",
   "pygments_lexer": "ipython3",
   "version": "3.10.9"
  }
 },
 "nbformat": 4,
 "nbformat_minor": 5
}
